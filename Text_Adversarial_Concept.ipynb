{
  "nbformat": 4,
  "nbformat_minor": 0,
  "metadata": {
    "colab": {
      "provenance": []
    },
    "kernelspec": {
      "name": "python3",
      "display_name": "Python 3"
    },
    "language_info": {
      "name": "python"
    }
  },
  "cells": [
    {
      "cell_type": "code",
      "execution_count": 1,
      "metadata": {
        "colab": {
          "base_uri": "https://localhost:8080/"
        },
        "id": "x7QLSH3787gk",
        "outputId": "c8e97bb4-0718-49a3-91c0-443149a0edd4"
      },
      "outputs": [
        {
          "output_type": "stream",
          "name": "stdout",
          "text": [
            "Requirement already satisfied: nltk in /usr/local/lib/python3.12/dist-packages (3.9.1)\n",
            "Requirement already satisfied: click in /usr/local/lib/python3.12/dist-packages (from nltk) (8.3.0)\n",
            "Requirement already satisfied: joblib in /usr/local/lib/python3.12/dist-packages (from nltk) (1.5.2)\n",
            "Requirement already satisfied: regex>=2021.8.3 in /usr/local/lib/python3.12/dist-packages (from nltk) (2024.11.6)\n",
            "Requirement already satisfied: tqdm in /usr/local/lib/python3.12/dist-packages (from nltk) (4.67.1)\n",
            "Libraries imported and NLTK data downloaded successfully!\n"
          ]
        }
      ],
      "source": [
        "\n",
        "\n",
        "# Install NLTK for tokenization\n",
        "!pip install nltk\n",
        "\n",
        "import nltk\n",
        "import random\n",
        "import string\n",
        "\n",
        "# Download necessary NLTK data (tokenizer)\n",
        "nltk.download('punkt', quiet=True)\n",
        "\n",
        "print(\"Libraries imported and NLTK data downloaded successfully!\")"
      ]
    },
    {
      "cell_type": "code",
      "source": [
        "\n",
        "\n",
        "# Mapping common English letters to their visually similar (homoglyph) counterparts.\n",
        "HOMOGLYPH_MAP = {\n",
        "    'a': 'а',  # Cyrillic 'a'\n",
        "    'e': 'е',  # Cyrillic 'e'\n",
        "    'o': 'о',  # Cyrillic 'o'\n",
        "    'p': 'р',  # Cyrillic 'er'\n",
        "    'c': 'с',  # Cyrillic 'es'\n",
        "    'i': 'і',  # Ukrainian 'i'\n",
        "    # Use lowercase only for simplicity\n",
        "}\n",
        "\n",
        "def apply_homoglyph_perturbation(text, perturbation_rate=0.2):\n",
        "    \"\"\"Replaces characters in the text with homoglyphs based on the rate.\"\"\"\n",
        "\n",
        "    perturbed_chars = list(text)\n",
        "\n",
        "    for i, char in enumerate(perturbed_chars):\n",
        "        # Only apply perturbation to characters present in the map\n",
        "        if char.lower() in HOMOGLYPH_MAP:\n",
        "            # Randomly decide to apply the change based on the rate (e.g., 20% chance)\n",
        "            if random.random() < perturbation_rate:\n",
        "                # Replace the character with its homoglyph\n",
        "                replacement = HOMOGLYPH_MAP[char.lower()]\n",
        "\n",
        "                # Maintain case (simple upper-casing if original was upper)\n",
        "                if char.isupper():\n",
        "                    perturbed_chars[i] = replacement.upper()\n",
        "                else:\n",
        "                    perturbed_chars[i] = replacement\n",
        "\n",
        "    return \"\".join(perturbed_chars)\n",
        "\n",
        "print(\"Homoglyph mapping and function defined.\")"
      ],
      "metadata": {
        "colab": {
          "base_uri": "https://localhost:8080/"
        },
        "id": "iTIWjQ3u9RHU",
        "outputId": "cbe6733e-a332-4aee-9bbc-48c2bf2d08df"
      },
      "execution_count": 2,
      "outputs": [
        {
          "output_type": "stream",
          "name": "stdout",
          "text": [
            "Homoglyph mapping and function defined.\n"
          ]
        }
      ]
    },
    {
      "cell_type": "code",
      "source": [
        "\n",
        "\n",
        "# The original input text\n",
        "original_sentence = \"This movie was absolutely good and very uplifting. It is highly recommended.\"\n",
        "\n",
        "# Generate the adversarial text by replacing some characters\n",
        "perturbation_strength = 0.5  # 50% chance of replacing a mappable character\n",
        "adversarial_sentence = apply_homoglyph_perturbation(\n",
        "    original_sentence,\n",
        "    perturbation_rate=perturbation_strength\n",
        ")\n",
        "\n",
        "# --- Comparison ---\n",
        "print(\"\\n--- Text Adversarial Concept ---\")\n",
        "print(f\"1. Original Text:   {original_sentence}\")\n",
        "print(f\"2. Adversarial Text: {adversarial_sentence}\")\n",
        "\n",
        "print(\"\\n--- Verification (Check for Subtle Changes) ---\")\n",
        "# Check if the sentences are mathematically different (they should be)\n",
        "if original_sentence != adversarial_sentence:\n",
        "    print(\"✅ Success: The two strings are mathematically different, demonstrating the perturbation.\")\n",
        "\n",
        "# Display the differences explicitly (Note: Colab might not display the homoglyphs clearly)\n",
        "# If you copy and paste the adversarial text into a plain text editor, the subtle character difference will be visible."
      ],
      "metadata": {
        "colab": {
          "base_uri": "https://localhost:8080/"
        },
        "id": "d-MoDxSq9Ux2",
        "outputId": "7f83abe8-71c3-4878-9bc0-11e8a908d08d"
      },
      "execution_count": 3,
      "outputs": [
        {
          "output_type": "stream",
          "name": "stdout",
          "text": [
            "\n",
            "--- Text Adversarial Concept ---\n",
            "1. Original Text:   This movie was absolutely good and very uplifting. It is highly recommended.\n",
            "2. Adversarial Text: This mоvіе wаs absolutely good аnd very upliftіng. Іt is hіghly reсоmmendеd.\n",
            "\n",
            "--- Verification (Check for Subtle Changes) ---\n",
            "✅ Success: The two strings are mathematically different, demonstrating the perturbation.\n"
          ]
        }
      ]
    }
  ]
}